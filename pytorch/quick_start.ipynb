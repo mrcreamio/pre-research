{
 "cells": [
  {
   "cell_type": "code",
   "execution_count": 4,
   "metadata": {},
   "outputs": [
    {
     "name": "stderr",
     "output_type": "stream",
     "text": [
      "/Users/mrcremio/miniforge3/envs/data-science/lib/python3.9/site-packages/torchvision/io/image.py:13: UserWarning: Failed to load image Python extension: dlopen(/Users/mrcremio/miniforge3/envs/data-science/lib/python3.9/site-packages/torchvision/image.so, 0x0006): Symbol not found: __ZN2at4_ops19empty_memory_format4callEN3c108ArrayRefINS2_6SymIntEEENS2_8optionalINS2_10ScalarTypeEEENS6_INS2_6LayoutEEENS6_INS2_6DeviceEEENS6_IbEENS6_INS2_12MemoryFormatEEE\n",
      "  Referenced from: <7968D834-00B6-3BC5-91B8-63E6BB9C4E4E> /Users/mrcremio/miniforge3/envs/data-science/lib/python3.9/site-packages/torchvision/image.so\n",
      "  Expected in:     <98993E81-78F8-3504-938B-4D1F9450D4C6> /Users/mrcremio/miniforge3/envs/data-science/lib/python3.9/site-packages/torch/lib/libtorch_cpu.dylib\n",
      "  warn(f\"Failed to load image Python extension: {e}\")\n"
     ]
    }
   ],
   "source": [
    "import torch\n",
    "from torch import nn\n",
    "from torch.utils.data import DataLoader\n",
    "from torchvision import datasets\n",
    "from torchvision.transforms import ToTensor\n",
    "\n"
   ]
  },
  {
   "cell_type": "code",
   "execution_count": 5,
   "metadata": {},
   "outputs": [],
   "source": [
    "\n",
    "# Download training data from open datasets.\n",
    "training_data = datasets.FashionMNIST(\n",
    "    root=\"data\",\n",
    "    train=True,\n",
    "    download=True,\n",
    "    transform=ToTensor(),\n",
    ")\n",
    "\n",
    "# Download test data from open datasets.\n",
    "test_data = datasets.FashionMNIST(\n",
    "    root=\"data\",\n",
    "    train=False,\n",
    "    download=True,\n",
    "    transform=ToTensor(),\n",
    ")\n"
   ]
  },
  {
   "cell_type": "code",
   "execution_count": 6,
   "metadata": {},
   "outputs": [
    {
     "name": "stdout",
     "output_type": "stream",
     "text": [
      "Shape of X [N, C, H, W]: torch.Size([64, 1, 28, 28])\n",
      "Shape of y: torch.Size([64]) torch.int64\n"
     ]
    }
   ],
   "source": [
    "batch_size = 64\n",
    "\n",
    "# Create data loaders.\n",
    "train_dataloader = DataLoader(training_data, batch_size=batch_size)\n",
    "test_dataloader = DataLoader(test_data, batch_size=batch_size)\n",
    "\n",
    "for X, y in test_dataloader:\n",
    "    print(f\"Shape of X [N, C, H, W]: {X.shape}\")\n",
    "    print(f\"Shape of y: {y.shape} {y.dtype}\")\n",
    "    break"
   ]
  },
  {
   "cell_type": "code",
   "execution_count": 7,
   "metadata": {},
   "outputs": [],
   "source": [
    "# Check that MPS is available\n",
    "if not torch.backends.mps.is_available():\n",
    "    if not torch.backends.mps.is_built():\n",
    "        print(\"MPS not available because the current PyTorch install was not \"\n",
    "              \"built with MPS enabled.\")\n",
    "    else:\n",
    "        print(\"MPS not available because the current MacOS version is not 12.3+ \"\n",
    "              \"and/or you do not have an MPS-enabled device on this machine.\")\n",
    "\n",
    "else:\n",
    "    mps_device = torch.device(\"mps\")"
   ]
  },
  {
   "cell_type": "code",
   "execution_count": 13,
   "metadata": {},
   "outputs": [
    {
     "name": "stdout",
     "output_type": "stream",
     "text": [
      "NeuralNetwork(\n",
      "  (flatten): Flatten(start_dim=1, end_dim=-1)\n",
      "  (linear_relu_stack): Sequential(\n",
      "    (0): Linear(in_features=784, out_features=512, bias=True)\n",
      "    (1): ReLU()\n",
      "    (2): Linear(in_features=512, out_features=512, bias=True)\n",
      "    (3): ReLU()\n",
      "    (4): Linear(in_features=512, out_features=10, bias=True)\n",
      "  )\n",
      ")\n"
     ]
    }
   ],
   "source": [
    "class NeuralNetwork(nn.Module):\n",
    "    def __init__(self):\n",
    "        super().__init__()\n",
    "        self.flatten = nn.Flatten()\n",
    "        self.linear_relu_stack = nn.Sequential(\n",
    "            nn.Linear(28*28,512),\n",
    "            nn.ReLU(),\n",
    "            nn.Linear(512, 512),\n",
    "            nn.ReLU(),\n",
    "            nn.Linear(512, 10)\n",
    "        )\n",
    "        \n",
    "    def forward(self, x):\n",
    "        x = self.flatten(x)\n",
    "        x = self.linear_relu_stack(x)\n",
    "        return x\n",
    "        \n",
    "\n",
    "model = NeuralNetwork().to(mps_device)\n",
    "print(model)\n",
    "\n",
    "        "
   ]
  },
  {
   "cell_type": "code",
   "execution_count": 14,
   "metadata": {},
   "outputs": [],
   "source": [
    "loss_fn = nn.CrossEntropyLoss()\n",
    "optimizer = torch.optim.SGD(model.parameters(), lr=1e-3)"
   ]
  },
  {
   "cell_type": "code",
   "execution_count": null,
   "metadata": {},
   "outputs": [],
   "source": []
  },
  {
   "cell_type": "code",
   "execution_count": 15,
   "metadata": {},
   "outputs": [],
   "source": [
    "def train(dataloader, model, loss_fn, optimizer):\n",
    "    size = len(dataloader.dataset)\n",
    "    model.train()\n",
    "    \n",
    "    for batch, (X, y) in enumerate(dataloader):\n",
    "        X, y = X.to(mps_device), y.to(mps_device)\n",
    "        \n",
    "        # compute prediction error\n",
    "        \n",
    "        pred = model(X)\n",
    "        loss = loss_fn(pred, y)\n",
    "        \n",
    "        #back propagation\n",
    "        optimizer.zero_grad() #Sets the gradients of all optimized torch.Tensor s to zero.\n",
    "        loss.backward()\n",
    "        optimizer.step()\n",
    "        \n",
    "        if batch % 100 == 0:\n",
    "            loss, current = loss.item(), batch * len(X)\n",
    "            print(f\"loss: {loss:>7f}  [{current:>5d}/{size:>5d}]\")\n",
    "        \n",
    "        "
   ]
  },
  {
   "cell_type": "code",
   "execution_count": 16,
   "metadata": {},
   "outputs": [],
   "source": [
    "def test(dataloader, model, loss_fn):\n",
    "    size = len(dataloader.dataset)\n",
    "    num_batches = len(dataloader)\n",
    "    model.eval()\n",
    "    \n",
    "    test_loss, correct = 0, 0\n",
    "    \n",
    "    with torch.no_grad():\n",
    "        for X, y in dataloader:\n",
    "            X, y = X.to(mps_device), y.to(mps_device)\n",
    "            pred = model(X)\n",
    "            test_loss += loss_fn(pred, y).item()\n",
    "            correct += (pred.argmax(1) == y).type(torch.float).sum().item()\n",
    "            \n",
    "    test_loss /= num_batches\n",
    "    correct /= size\n",
    "    \n",
    "    print(f\"Test Error: \\n Acccuracy: {(100*correct):>0.1f}%, Avg loss: {test_loss:>8f} \\n\")"
   ]
  },
  {
   "cell_type": "code",
   "execution_count": 17,
   "metadata": {},
   "outputs": [
    {
     "name": "stdout",
     "output_type": "stream",
     "text": [
      "Epoch 1\n",
      "-------------------------------\n",
      "loss: 2.289531  [    0/60000]\n",
      "loss: 2.286346  [ 6400/60000]\n",
      "loss: 2.264397  [12800/60000]\n",
      "loss: 2.268069  [19200/60000]\n",
      "loss: 2.253819  [25600/60000]\n",
      "loss: 2.212437  [32000/60000]\n",
      "loss: 2.228852  [38400/60000]\n",
      "loss: 2.186220  [44800/60000]\n",
      "loss: 2.185386  [51200/60000]\n",
      "loss: 2.159850  [57600/60000]\n",
      "Test Error: \n",
      " Acccuracy: 47.8%, Avg loss: 2.153153 \n",
      "\n",
      "Epoch 2\n",
      "-------------------------------\n",
      "loss: 2.161308  [    0/60000]\n",
      "loss: 2.155761  [ 6400/60000]\n",
      "loss: 2.094396  [12800/60000]\n",
      "loss: 2.115107  [19200/60000]\n",
      "loss: 2.071895  [25600/60000]\n",
      "loss: 1.999706  [32000/60000]\n",
      "loss: 2.039511  [38400/60000]\n",
      "loss: 1.951429  [44800/60000]\n",
      "loss: 1.961720  [51200/60000]\n",
      "loss: 1.894871  [57600/60000]\n",
      "Test Error: \n",
      " Acccuracy: 57.5%, Avg loss: 1.891542 \n",
      "\n",
      "Epoch 3\n",
      "-------------------------------\n",
      "loss: 1.928611  [    0/60000]\n",
      "loss: 1.896307  [ 6400/60000]\n",
      "loss: 1.780783  [12800/60000]\n",
      "loss: 1.825006  [19200/60000]\n",
      "loss: 1.720826  [25600/60000]\n",
      "loss: 1.666876  [32000/60000]\n",
      "loss: 1.699747  [38400/60000]\n",
      "loss: 1.592027  [44800/60000]\n",
      "loss: 1.621828  [51200/60000]\n",
      "loss: 1.517279  [57600/60000]\n",
      "Test Error: \n",
      " Acccuracy: 60.8%, Avg loss: 1.533101 \n",
      "\n",
      "Epoch 4\n",
      "-------------------------------\n",
      "loss: 1.607681  [    0/60000]\n",
      "loss: 1.563951  [ 6400/60000]\n",
      "loss: 1.417168  [12800/60000]\n",
      "loss: 1.487807  [19200/60000]\n",
      "loss: 1.373997  [25600/60000]\n",
      "loss: 1.366751  [32000/60000]\n",
      "loss: 1.388577  [38400/60000]\n",
      "loss: 1.304157  [44800/60000]\n",
      "loss: 1.339396  [51200/60000]\n",
      "loss: 1.240969  [57600/60000]\n",
      "Test Error: \n",
      " Acccuracy: 63.6%, Avg loss: 1.265474 \n",
      "\n",
      "Epoch 5\n",
      "-------------------------------\n",
      "loss: 1.348282  [    0/60000]\n",
      "loss: 1.321625  [ 6400/60000]\n",
      "loss: 1.158900  [12800/60000]\n",
      "loss: 1.261448  [19200/60000]\n",
      "loss: 1.141264  [25600/60000]\n",
      "loss: 1.165466  [32000/60000]\n",
      "loss: 1.192204  [38400/60000]\n",
      "loss: 1.121943  [44800/60000]\n",
      "loss: 1.159805  [51200/60000]\n",
      "loss: 1.075289  [57600/60000]\n",
      "Test Error: \n",
      " Acccuracy: 64.9%, Avg loss: 1.095980 \n",
      "\n",
      "Done!\n"
     ]
    }
   ],
   "source": [
    "epochs = 5\n",
    "for t in range(epochs):\n",
    "    print(f\"Epoch {t+1}\\n-------------------------------\")\n",
    "    train(train_dataloader, model, loss_fn, optimizer)\n",
    "    test(test_dataloader, model, loss_fn)\n",
    "print(\"Done!\")"
   ]
  },
  {
   "cell_type": "code",
   "execution_count": null,
   "metadata": {},
   "outputs": [],
   "source": []
  },
  {
   "cell_type": "code",
   "execution_count": null,
   "metadata": {},
   "outputs": [],
   "source": []
  }
 ],
 "metadata": {
  "kernelspec": {
   "display_name": "Python 3.9.13 ('data-science')",
   "language": "python",
   "name": "python3"
  },
  "language_info": {
   "codemirror_mode": {
    "name": "ipython",
    "version": 3
   },
   "file_extension": ".py",
   "mimetype": "text/x-python",
   "name": "python",
   "nbconvert_exporter": "python",
   "pygments_lexer": "ipython3",
   "version": "3.9.13"
  },
  "orig_nbformat": 4,
  "vscode": {
   "interpreter": {
    "hash": "b49505077ae61d0f747fef438dd449a5c5323ca933815c68f2aee4c9bc0aa0f5"
   }
  }
 },
 "nbformat": 4,
 "nbformat_minor": 2
}
